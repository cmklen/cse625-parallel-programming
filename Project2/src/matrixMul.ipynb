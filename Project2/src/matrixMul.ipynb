{
 "cells": [
  {
   "cell_type": "markdown",
   "metadata": {},
   "source": [
    "Given the following matricies:"
   ]
  },
  {
   "cell_type": "code",
   "execution_count": 9,
   "metadata": {},
   "outputs": [],
   "source": [
    "import numpy as np\n",
    "\n",
    "def createMatrices(s):\n",
    "    mat1 = np.random.random((s, s)).astype(np.float32)\n",
    "    mat2 = np.random.random((s, s)).astype(np.float32)\n",
    "    return (mat1, mat2)"
   ]
  },
  {
   "cell_type": "markdown",
   "metadata": {},
   "source": [
    "Computation method 1: Multiplication using Python for loops. \n"
   ]
  },
  {
   "cell_type": "code",
   "execution_count": 13,
   "metadata": {},
   "outputs": [
    {
     "name": "stdout",
     "output_type": "stream",
     "text": [
      "Multplying matrices of size 200\n",
      "Wall time: 5.39 s\n",
      "Done\n",
      "Multplying matrices of size 400\n",
      "Wall time: 41.6 s\n",
      "Done\n",
      "Multplying matrices of size 800\n",
      "Wall time: 5min 31s\n",
      "Done\n"
     ]
    }
   ],
   "source": [
    "import numpy as np\n",
    "sizes = [200, 400, 800]\n",
    "\n",
    "def multiplyMatrices(m1, m2, size):\n",
    "    result = np.empty((size, size), dtype=float)\n",
    "    for i in range(len(m1)):\n",
    "        # iterate through columns of M2\n",
    "        for j in range(len(m2[0])):\n",
    "            # iterate through rows of M2\n",
    "            for k in range(len(m2)):\n",
    "                result[i][j] += m1[i][k] * m2[k][j]\n",
    "\n",
    "def runTimingTests():\n",
    "    for size in sizes:\n",
    "        print(\"Multplying matrices of size\", size)\n",
    "        mat1, mat2 = createMatrices(size)\n",
    "        %time multiplyMatrices(mat1, mat2, size)\n",
    "        print(\"Done\")\n",
    "\n",
    "runTimingTests()"
   ]
  },
  {
   "cell_type": "markdown",
   "metadata": {},
   "source": [
    "Numpy matrix multiply"
   ]
  },
  {
   "cell_type": "code",
   "execution_count": 15,
   "metadata": {},
   "outputs": [
    {
     "name": "stdout",
     "output_type": "stream",
     "text": [
      "Multplying matrices of size 200\n",
      "Wall time: 3.97 ms\n",
      "Done\n",
      "Multplying matrices of size 400\n",
      "Wall time: 991 µs\n",
      "Done\n",
      "Multplying matrices of size 800\n",
      "Wall time: 3.47 ms\n",
      "Done\n",
      "Multplying matrices of size 1600\n",
      "Wall time: 16.4 ms\n",
      "Done\n",
      "Multplying matrices of size 3200\n",
      "Wall time: 136 ms\n",
      "Done\n",
      "Multplying matrices of size 6400\n",
      "Wall time: 1.24 s\n",
      "Done\n",
      "Multplying matrices of size 12800\n",
      "Wall time: 10.8 s\n",
      "Done\n"
     ]
    }
   ],
   "source": [
    "sizes = [200, 400, 800, 1600, 3200, 6400, 12800]\n",
    "\n",
    "def runNumpyTimingTests():\n",
    "    for size in sizes:\n",
    "        print(\"Multplying matrices of size\", size)\n",
    "        mat1, mat2 = createMatrices(size)\n",
    "        %time np.matmul(mat1, mat2)\n",
    "        print(\"Done\")\n",
    "\n",
    "runNumpyTimingTests()"
   ]
  }
 ],
 "metadata": {
  "interpreter": {
   "hash": "2028cae5e1ccfd73f96864fcab749a741bd0171c015975c3f420b043b6b34333"
  },
  "kernelspec": {
   "display_name": "Python 3.9.13 64-bit (windows store)",
   "language": "python",
   "name": "python3"
  },
  "language_info": {
   "codemirror_mode": {
    "name": "ipython",
    "version": 3
   },
   "file_extension": ".py",
   "mimetype": "text/x-python",
   "name": "python",
   "nbconvert_exporter": "python",
   "pygments_lexer": "ipython3",
   "version": "3.9.13"
  },
  "orig_nbformat": 4
 },
 "nbformat": 4,
 "nbformat_minor": 2
}
