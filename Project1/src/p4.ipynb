{
 "cells": [
  {
   "cell_type": "markdown",
   "metadata": {},
   "source": [
    "# Weak Scalability Analysis\n"
   ]
  },
  {
   "cell_type": "markdown",
   "metadata": {},
   "source": [
    "## 4.1\n",
    "\n",
    "Function:"
   ]
  },
  {
   "cell_type": "code",
   "execution_count": 4,
   "metadata": {},
   "outputs": [],
   "source": [
    "import numpy as np\n",
    "\n",
    "def T(p, n, α, β): \n",
    "  # Returns computing time\n",
    "  # Input Parameters:\n",
    "  # \tp number of processors (PEs)\n",
    "  # \tn problem size, i.e. number of array elements\n",
    "  # \ta unit compute time (α alpha)\n",
    "  # \tb unit communication time (β beta)\n",
    "    q = np.log2(p)\n",
    "    k = np.log2(n)\n",
    "    if (p < n):\n",
    "        return 2*β*q + α*(2*(n/p) - 1 + q) # derived like formula on 1_Introduction slide 19\n",
    "    else:\n",
    "        return 2*β*(k-1) + α*k  # set q = k-1\n"
   ]
  },
  {
   "cell_type": "markdown",
   "metadata": {},
   "source": [
    "### Test Code"
   ]
  },
  {
   "cell_type": "code",
   "execution_count": 5,
   "metadata": {},
   "outputs": [
    {
     "data": {
      "text/plain": [
       "2077.0"
      ]
     },
     "execution_count": 5,
     "metadata": {},
     "output_type": "execute_result"
    }
   ],
   "source": [
    "T(1024, 2**20,1,1)"
   ]
  },
  {
   "cell_type": "markdown",
   "metadata": {},
   "source": [
    "## 4.2\n",
    "\n"
   ]
  },
  {
   "cell_type": "code",
   "execution_count": 8,
   "metadata": {},
   "outputs": [],
   "source": [
    "\n",
    "\n",
    "def S (p, n, α, β): \n",
    "    # Returns speedup\n",
    "    # Input Parameters:\n",
    "    # \tp number of processors (PEs)\n",
    "    # \tn problem size, i.e., number of array elements\n",
    "    # \tα unit compute time (alpha)\n",
    "    # \tβ unit communication time (beta)\n",
    "    q = np.log2(p)\n",
    "    k = np.log2(n)\n",
    "    if (β > 0):\n",
    "        γ = α/β\n",
    "    else:\n",
    "        return 0\n",
    "    \n",
    "    return γ*(2**k - 1) / (2*q + γ*(2**(k-q)-1+q))\n"
   ]
  },
  {
   "cell_type": "markdown",
   "metadata": {},
   "source": [
    "### Test Code\n"
   ]
  },
  {
   "cell_type": "code",
   "execution_count": 9,
   "metadata": {},
   "outputs": [
    {
     "data": {
      "text/plain": [
       "995.7977207977208"
      ]
     },
     "execution_count": 9,
     "metadata": {},
     "output_type": "execute_result"
    }
   ],
   "source": [
    "S(1024, 2**20,1,1)"
   ]
  },
  {
   "cell_type": "markdown",
   "metadata": {},
   "source": [
    "## 4.3"
   ]
  },
  {
   "cell_type": "code",
   "execution_count": 10,
   "metadata": {},
   "outputs": [
    {
     "data": {
      "text/plain": [
       "([<matplotlib.axis.XTick at 0x2cde3b3d520>,\n",
       "  <matplotlib.axis.XTick at 0x2cde3b3d4f0>,\n",
       "  <matplotlib.axis.XTick at 0x2cde3b29370>,\n",
       "  <matplotlib.axis.XTick at 0x2cde5bc3370>,\n",
       "  <matplotlib.axis.XTick at 0x2cde5bc3ac0>,\n",
       "  <matplotlib.axis.XTick at 0x2cde5bcb250>,\n",
       "  <matplotlib.axis.XTick at 0x2cde5bc3b20>,\n",
       "  <matplotlib.axis.XTick at 0x2cde5bcb1f0>,\n",
       "  <matplotlib.axis.XTick at 0x2cde5bcbeb0>,\n",
       "  <matplotlib.axis.XTick at 0x2cde5bd2640>],\n",
       " [Text(0, 0, '1'),\n",
       "  Text(1, 0, '2'),\n",
       "  Text(2, 0, '4'),\n",
       "  Text(3, 0, '8'),\n",
       "  Text(4, 0, '16'),\n",
       "  Text(5, 0, '32'),\n",
       "  Text(6, 0, '64'),\n",
       "  Text(7, 0, '126'),\n",
       "  Text(8, 0, '256'),\n",
       "  Text(9, 0, '512')])"
      ]
     },
     "execution_count": 10,
     "metadata": {},
     "output_type": "execute_result"
    },
    {
     "data": {
      "image/png": "[encoded data removed]",
      "text/plain": [
       "<Figure size 432x288 with 1 Axes>"
      ]
     },
     "metadata": {
      "needs_background": "light"
     },
     "output_type": "display_data"
    }
   ],
   "source": [
    "#more code\n",
    "import matplotlib.pyplot as plt\n",
    "\n",
    "n = 1024\n",
    "α = 1\n",
    "β_list = [0, 1, 2, 3]\n",
    "\n",
    "fig = plt.figure()\n",
    "ax = fig.add_axes([0, 0, 1, 1])\n",
    "\n",
    "x = np.linspace(0, 9, 100)\n",
    "\n",
    "y0 = [S(2**q, n, α, β_list[0]) for q in x]\n",
    "y1 = [S(2**q, n, α, β_list[1]) for q in x]\n",
    "y2 = [S(2**q, n, α, β_list[2]) for q in x]\n",
    "y3 = [S(2**q, n, α, β_list[3]) for q in x]\n",
    "\n",
    "# Plot Speedup vs # of processors for comm. costs 3, 2, and 1 \n",
    "# (using MATLAB like interface)\n",
    "plt.plot(x, y3, '-r', label = \"3 comm. unit\")\n",
    "plt.plot(x, y2, '-b', label = \"2 comm. unit\")\n",
    "plt.plot(x, y1, '-g', label = \"1 comm. unit\")\n",
    "plt.plot(x, y1, '-y', label = \"0 comm. unit\")\n",
    "plt.ylabel(\"Speedup\")\n",
    "plt.xlabel(\"p\")\n",
    "plt.legend()\n",
    "plt.title(\"Speedup vs Number of PEs\")\n",
    "plt.grid(True)\n",
    "# set xtick positions and labels\n",
    "plt.xticks([0,1,2,3,4,5,6,7,8,9], \n",
    "        ['1','2','4','8','16','32','64','126','256','512'])"
   ]
  }
 ],
 "metadata": {
  "interpreter": {
   "hash": "2028cae5e1ccfd73f96864fcab749a741bd0171c015975c3f420b043b6b34333"
  },
  "kernelspec": {
   "display_name": "Python 3.9.13 64-bit (windows store)",
   "language": "python",
   "name": "python3"
  },
  "language_info": {
   "codemirror_mode": {
    "name": "ipython",
    "version": 3
   },
   "file_extension": ".py",
   "mimetype": "text/x-python",
   "name": "python",
   "nbconvert_exporter": "python",
   "pygments_lexer": "ipython3",
   "version": "3.9.13"
  },
  "orig_nbformat": 4
 },
 "nbformat": 4,
 "nbformat_minor": 2
}
