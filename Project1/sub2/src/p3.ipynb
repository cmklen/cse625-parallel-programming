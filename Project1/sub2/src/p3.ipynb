{
 "cells": [
  {
   "cell_type": "markdown",
   "metadata": {},
   "source": [
    "# Distrubuted Array Summation\n",
    "\n",
    "Just a note, it seems as if the number 6 is out of place to test and that 126 should instead be 128 to keep as powers of 2. I didn't want to assume a mistake however so I ran it with the data provided. "
   ]
  },
  {
   "cell_type": "code",
   "execution_count": 15,
   "metadata": {},
   "outputs": [
    {
     "data": {
      "text/plain": [
       "[100.0,\n",
       " 99.75633528265108,\n",
       " 99.48979591836735,\n",
       " 99.3284965948012,\n",
       " 99.2126937984496,\n",
       " 98.93115942028986,\n",
       " 98.64824181117534,\n",
       " 98.36545389048992,\n",
       " 98.08993503993327,\n",
       " 97.79973097938938,\n",
       " 97.52362351190477]"
      ]
     },
     "execution_count": 15,
     "metadata": {},
     "output_type": "execute_result"
    }
   ],
   "source": [
    "import numpy as np\n",
    "\n",
    "n = 1024\n",
    "\n",
    "p_list = [1, 2, 4, 6, 8, 16, 32, 64, 126, 258, 512]\n",
    "e_list = []\n",
    "\n",
    "# Timing function for multi-processor computing\n",
    "def t(p, n): \n",
    "    q = np.log2(p)\n",
    "    k = np.log2(n)\n",
    "    if (p < n) :\n",
    "        return 2*q + (n/p - 1 + q) # 1_Introduction slide 19\n",
    "    else :\n",
    "        return 2*(k-1) + k  # set q = k-1\n",
    "\n",
    "def speedup(p):\n",
    "    return t(1,1024*p, 1, 1) / t(p, 1024*p, 1, 1) # s(q, 1, 1)\n",
    "\n",
    "def efficiency(p):\n",
    "    return (speedup(p)/p)*100 \n",
    "\n",
    "\n",
    "for p in p_list:\n",
    "    e_list.append(efficiency(p))\n",
    "\n",
    "e_list"
   ]
  },
  {
   "cell_type": "markdown",
   "metadata": {},
   "source": [
    "Generate Plot"
   ]
  },
  {
   "cell_type": "code",
   "execution_count": 24,
   "metadata": {},
   "outputs": [
    {
     "data": {
      "text/plain": [
       "<matplotlib.table.Table at 0x1cf6cf06880>"
      ]
     },
     "execution_count": 24,
     "metadata": {},
     "output_type": "execute_result"
    },
    {
     "data": {
      "image/png": "[encoded data removed]",
      "text/plain": [
       "<Figure size 432x288 with 1 Axes>"
      ]
     },
     "metadata": {
      "needs_background": "light"
     },
     "output_type": "display_data"
    }
   ],
   "source": [
    "# Efficiency scalability bar plot (for n =104 and comm cost = 0)\n",
    "import matplotlib.pyplot as plt\n",
    "\n",
    "ex = [0,1,2,3,4,5,6,7,8,9,10]\n",
    "\n",
    "fig = plt.figure()\n",
    "ax = fig.add_axes([0, 0, 1, 1])\n",
    "\n",
    "ax.bar(ex, e_list)\n",
    "\n",
    "ax.set_ylabel(\"Efficiency in %\")\n",
    "ax.set_ylim(ymin=95)\n",
    "ax.set_ylim(ymax=100)\n",
    "ax.set_xlabel(\"p\")\n",
    "ax.set_title(\"Weak Scalablity Anaylysis (n = 1024, beta = 1)\")\n",
    "ax.set_xticks(ex)\n",
    "ax.set_xticklabels([])\n",
    "\n",
    "row_2 = [round(num, 2) for num in e_list]\n",
    "\n",
    "# Display 2D table as x-labels\n",
    "rowLabels = ['p', 'Efficiency']\n",
    "columnLabels = ('0','1','2','3','4','5','6','7','8','9','10')\n",
    "row_1 = ['1','2','4','6','8','16','32','64','126','256','512']\n",
    "#row_2 = ['%0.3g' % (x) for x in speedup_3]\n",
    "ax.table(cellText = [row_1, row_2], rowLabels = rowLabels, colLabels = columnLabels, loc='bottom', cellLoc='center')"
   ]
  }
 ],
 "metadata": {
  "interpreter": {
   "hash": "2028cae5e1ccfd73f96864fcab749a741bd0171c015975c3f420b043b6b34333"
  },
  "kernelspec": {
   "display_name": "Python 3.9.13 64-bit (windows store)",
   "language": "python",
   "name": "python3"
  },
  "language_info": {
   "codemirror_mode": {
    "name": "ipython",
    "version": 3
   },
   "file_extension": ".py",
   "mimetype": "text/x-python",
   "name": "python",
   "nbconvert_exporter": "python",
   "pygments_lexer": "ipython3",
   "version": "3.9.13"
  },
  "orig_nbformat": 4
 },
 "nbformat": 4,
 "nbformat_minor": 2
}
