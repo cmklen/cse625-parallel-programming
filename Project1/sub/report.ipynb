{
 "cells": [
  {
   "cell_type": "markdown",
   "metadata": {},
   "source": [
    "# Project 1 Report\n",
    "\n",
    "## Question 1\n",
    "Testing was done on aIntel(R) Core(TM) i9-10900K CPU @ 3.70GHz, 3696 Mhz, 10 Core(s), 20 Logical Processor(s) running Windows 10\n",
    "\n",
    "\n",
    "The results from testing the are as follows:\n",
    "\n",
    "|Vector size|14,000,000|16,000,000|16,700,000|16,777,216|17,000,000\n",
    "|----|----|----|----|----|----\n",
    "Seq dot result|1.4e+07|1.6e+07|1.67e+07|1.67772e+07 |1.67772e+07|\t\t\t\t\t\n",
    "Thread dot result|1.4e+07|1.6e+07|1.67e+07|1.67772e+07 | 1.7e+07|\t\t\t\t\t\t\n",
    "Seq runtime (s)\t|0.01333336|0.0235163|0.016238|0.0160632|0.0163746s|\t\t\t\t\t\n",
    "Thread runtime (s)|0.0080387|0.0125971|0.0097339|0.0097385|0.0096551s|\t\n",
    "\n",
    "The Thread dot result is accurate for two vectors of size 17,000,000, but the sequential dot result is not accurate for two vectors of size larger than 16,777,216 (for example, 17,000,000). \n",
    "\n",
    "This is because 32-bit floats (according to IEEE-754) are stored in the following format: `sign (1 bit) + exponent(8 bits) + mantissa (23 bits)`. The mantissa is where the value is stored and 16,777,216 is exactly 2^24 so any number more precice (like 16,777,217) cannot be stored in a 32-bit float. This obviously causes a calculation issue and is the reason any number higher results in the same answer of 16,777,216 because it cannot increment. The simplest soulution to this problem is to use a double instead to increase the precision, though this may slow performace. The thread dot does not have this issues because it calculates using partial sums and never needs the full precision of a float32."
   ]
  },
  {
   "cell_type": "markdown",
   "metadata": {},
   "source": [
    "## Question 2\n",
    "\n",
    "### 2.1\n",
    "Provided Code is slightly modified to run all test cases in a loop."
   ]
  },
  {
   "cell_type": "code",
   "execution_count": null,
   "metadata": {},
   "outputs": [],
   "source": [
    "import numpy as np\n",
    "\n",
    "sizes = [14000000,16000000,16700000,16777216,17000000]\n",
    "\n",
    "def dot (v1, v2):\n",
    "\n",
    "    result = np.float32(0)\n",
    "    for i in range(len(v1)):\n",
    "        result += v1[i] * v2[i]\n",
    "    print(f'Results for {len(v1)}: {result}\\n')\n",
    "    return result\n",
    "\n",
    "for size in sizes:\n",
    "    # Test the dot product function\n",
    "    v1 = np.ones(size, dtype = np.float32)\n",
    "    v2 = np.ones(size, dtype = np.float32)\n",
    "\n",
    "    %time dot(v1, v2)"
   ]
  },
  {
   "cell_type": "markdown",
   "metadata": {},
   "source": [
    "### Python Dot Product Results\n",
    "\n",
    "|Vector size|14,000,000|16,000,000|16,700,000|16,777,216|17,000,000\n",
    "|----|----|----|----|----|----\n",
    "Python dot result|14000000|16000000|16700000|16777216|16777216|\t\t\t\t\t\t\t\t\t\t\n",
    "Python runtime (s)\t|2.65|3.01|3.13|3.21|3.31|\t\t\t\t\t\t"
   ]
  },
  {
   "cell_type": "markdown",
   "metadata": {},
   "source": [
    "### 2.2\n",
    "Using NumPy libraries\n"
   ]
  },
  {
   "cell_type": "code",
   "execution_count": null,
   "metadata": {},
   "outputs": [],
   "source": [
    "def numpyDot (v1, v2):\n",
    "    result = np.float32(0)\n",
    "    # for i in range(len(v1)):\n",
    "    result = np.sum(np.multiply(v1,v2))\n",
    "    print(f'Results for {len(v1)}: {result}\\n')\n",
    "    return result\n",
    "\n",
    "for size in sizes:\n",
    "    # Test the dot product function\n",
    "    v1 = np.ones(size, dtype = np.float32)\n",
    "    v2 = np.ones(size, dtype = np.float32)\n",
    "\n",
    "    %time numpyDot(v1, v2)"
   ]
  },
  {
   "cell_type": "markdown",
   "metadata": {},
   "source": [
    "|Vector size|14,000,000|16,000,000|16,700,000|16,777,216|17,000,000\n",
    "|----|----|----|----|----|----\n",
    "NumPy dot result|14000000|16000000|16700000|16777216|17000000|\t\t\t\t\t\t\t\t\t\t\n",
    "NumPy runtime (s)\t|0.0412|0.0441|0.063.5|0.061|0.0427|\t\t\n",
    "\n",
    "\n",
    "Notably, this method produces correct result for float32 vectors of size 17,000,000 because the NumPy library function `sum` utilizes pairwise summation. The memory fetched into the cache for the index i will be directly reused for calculation with index i+1, which will be used for i +2 and so on. This works because the arrays are stored in contiguous memory in row major form. This navigates around the prceision issue of float32's mentioned in problem #1. "
   ]
  },
  {
   "cell_type": "markdown",
   "metadata": {},
   "source": [
    "### 2.3\n",
    "Overall Results and Comparison 1, 2.1, 2.2\n",
    "\n",
    "\n",
    "Combined Table:\n",
    "|Vector size|14,000,000|16,000,000|16,700,000|16,777,216|17,000,000\n",
    "|----|----|----|----|----|----\n",
    "Python runtime (s)\t|2.65|3.01|3.13|3.21|3.31|\t\n",
    "NumPy runtime (s)\t|0.0412|0.0441|0.063.5|0.061|0.0427|\n",
    "Seq runtime (s)\t|0.01333336|0.0235163|0.016238|0.0160632|0.0163746s|\t\t\t\t\n",
    "Thread runtime (s)|0.0080387|0.0125971|0.0097339|0.0097385|0.0096551s|\n",
    "Python dot result|14000000|16000000|16700000|16777216|16777216|\t\t\t\t\t\t\t\t\t\t\n",
    "NumPy dot result|14000000|16000000|16700000|16777216|17000000|\t\t\t\t\t\t\t\t\t\t\n",
    "Seq dot result|14000000|16000000|16700000|16777216 |16777216|\t\t\t\t\t\n",
    "Thread dot result|14000000|16000000|16700000|16777216 |17000000|\t\n",
    "\n",
    "As seen in the table, nothing can beat C/C++ code, as it simply is too efficient and fast. Even NumPy's optimizations still are slower than the sequential C++ code. The Multi-threaded C++ code ran much much faster than any other langauage/algorithm combination. While the increase from base python to NumPy saw a huge increase in speed (nearly 64 times as fast), the increase from sequential C++ to threaded to C++ was faster but by a less wide margin (only about 1.65 times faster). Much like the issue with the sequential C++ dot product, a sequential python dot product also caps out at a maximum of 16777216 before answers are no longer accurate."
   ]
  },
  {
   "cell_type": "markdown",
   "metadata": {},
   "source": [
    "## Question 3\n"
   ]
  },
  {
   "cell_type": "markdown",
   "metadata": {},
   "source": [
    "See code in p3.ipynb"
   ]
  },
  {
   "cell_type": "markdown",
   "metadata": {},
   "source": [
    "![image](fig/weakScaleAnalysis.png)"
   ]
  },
  {
   "cell_type": "markdown",
   "metadata": {},
   "source": [
    "## Question 4\n",
    "\n",
    "See code in p4.ipynb"
   ]
  },
  {
   "cell_type": "markdown",
   "metadata": {},
   "source": [
    "![image](fig/pePerBeta.png)"
   ]
  }
 ],
 "metadata": {
  "interpreter": {
   "hash": "2028cae5e1ccfd73f96864fcab749a741bd0171c015975c3f420b043b6b34333"
  },
  "kernelspec": {
   "display_name": "Python 3 (ipykernel)",
   "language": "python",
   "name": "python3"
  },
  "language_info": {
   "codemirror_mode": {
    "name": "ipython",
    "version": 3
   },
   "file_extension": ".py",
   "mimetype": "text/x-python",
   "name": "python",
   "nbconvert_exporter": "python",
   "pygments_lexer": "ipython3",
   "version": "3.9.13"
  }
 },
 "nbformat": 4,
 "nbformat_minor": 2
}
